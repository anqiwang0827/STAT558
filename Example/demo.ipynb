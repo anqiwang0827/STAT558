{
 "cells": [
  {
   "cell_type": "markdown",
   "metadata": {},
   "source": [
    "## Choose option to see algorithm results"
   ]
  },
  {
   "cell_type": "code",
   "execution_count": null,
   "metadata": {
    "collapsed": false,
    "deletable": true,
    "editable": true
   },
   "outputs": [
    {
     "name": "stdout",
     "output_type": "stream",
     "text": [
      "Enter an option [0 = Real World Data by Algorithm, 1 = Simple Data by Algorithm, 2 = Comparison with Scikit-Learn (Real World Data)]: 2\n"
     ]
    }
   ],
   "source": [
    "if __name__ == \"__main__\":\n",
    "  option = int(input(\"Enter an option [0 = Real World Data by Algorithm, 1 = Simple Data by Algorithm, 2 = Comparison with Scikit-Learn (Real World Data)]: \"))\n",
    "  if option == 0:\n",
    "    %run Algorithm_RealData.py\n",
    "  elif option == 1:\n",
    "    %run Algorithm_SimpleData.py\n",
    "  elif option ==2:\n",
    "    %run Comparison.py\n",
    "  else:\n",
    "    print(\"Invalid option.\")"
   ]
  },
  {
   "cell_type": "code",
   "execution_count": null,
   "metadata": {
    "collapsed": true
   },
   "outputs": [],
   "source": []
  }
 ],
 "metadata": {
  "kernelspec": {
   "display_name": "Python 3",
   "language": "python",
   "name": "python3"
  },
  "language_info": {
   "codemirror_mode": {
    "name": "ipython",
    "version": 3
   },
   "file_extension": ".py",
   "mimetype": "text/x-python",
   "name": "python",
   "nbconvert_exporter": "python",
   "pygments_lexer": "ipython3",
   "version": "3.6.0"
  }
 },
 "nbformat": 4,
 "nbformat_minor": 2
}
